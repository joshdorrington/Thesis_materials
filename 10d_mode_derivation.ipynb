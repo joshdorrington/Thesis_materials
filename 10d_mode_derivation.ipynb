{
 "cells": [
  {
   "cell_type": "markdown",
   "metadata": {},
   "source": [
    "# This notebook uses sympy to derive nonlinear coefficients for terms in the CdV equations.\n",
    "## Produced as an appendix to Josh Dorrington's PhD thesis, 2021.\n"
   ]
  },
  {
   "cell_type": "code",
   "execution_count": 50,
   "metadata": {},
   "outputs": [],
   "source": [
    "from sympy import *\n",
    "import pickle\n",
    "import os\n",
    "import numpy as np\n",
    "import itertools as it\n",
    "\n",
    "def isolate(rhs,index,term):\n",
    "    \n",
    "    return simplify(rhs[index].coeff(term))*term\n",
    "\n",
    "def print_eq(rhs,index,mode_num=10):\n",
    "    eq=0\n",
    "    for i,j in it.product(range(mode_num),range(mode_num)):\n",
    "        eq=eq+isolate(rhs,index,xs[i]*xs[j])\n",
    "    return eq\n"
   ]
  },
  {
   "cell_type": "markdown",
   "metadata": {},
   "source": [
    "## We start by defining the variables and basis functions"
   ]
  },
  {
   "cell_type": "code",
   "execution_count": 10,
   "metadata": {},
   "outputs": [],
   "source": [
    "x_modes=[-1,0,1]\n",
    "y_modes=[1,2]\n",
    "D=6\n",
    "y=Symbol(\"y\")\n",
    "b=Symbol(\"b\",nonzero=True,positive=True,rational=True)\n",
    "\n",
    "#Here we initialise the mode variables and the spatial variables\n",
    "jy=var(\"j_y\",integer=True,nonzero=True,positive=True)\n",
    "ky=var(\"k_y\",integer=True,nonzero=True,positive=True)\n",
    "ly=var(\"l_y\",integer=True,nonzero=True,positive=True)\n",
    "\n",
    "jx=var(\"j_x\",integer=True)\n",
    "kx=var(\"k_x\",integer=True)\n",
    "lx=var(\"l_x\",integer=True)\n",
    "\n",
    "x=var(\"x\")\n",
    "y=var(\"y\")"
   ]
  },
  {
   "cell_type": "code",
   "execution_count": 3,
   "metadata": {},
   "outputs": [],
   "source": [
    "#Initialise three basis functionals for calculating nonlinear products\n",
    "jmode=Piecewise((sqrt(2)*cos(jy*y/b),Eq(jx,0)),(sqrt(2)*exp(I*jx*x)*sin(jy*y/b),True))\n",
    "kmode=Piecewise((sqrt(2)*cos(ky*y/b),Eq(kx,0)),(sqrt(2)*exp(I*kx*x)*sin(ky*y/b),True))\n",
    "lmode=Piecewise((sqrt(2)*cos(ly*y/b),Eq(lx,0)),(sqrt(2)*exp(I*lx*x)*sin(ly*y/b),True))"
   ]
  },
  {
   "cell_type": "markdown",
   "metadata": {},
   "source": [
    "## We define a mapping from this basis to the real valued basis we will want at the end"
   ]
  },
  {
   "cell_type": "code",
   "execution_count": 4,
   "metadata": {},
   "outputs": [],
   "source": [
    "#These are the descriptors used in CdV79\n",
    "mode_label={(0,1):\"A\",(0,2):\"B\",(1,1):\"C\",(-1,1):\"D\",(1,2):\"E\",(-1,2):\"F\"}\n",
    "\n",
    "#These are the descriptors of the real modes\n",
    "x1={(0,1):1/b}\n",
    "x2={(-1,1):1/(sqrt(2)*b),(1,1):1/(sqrt(2)*b)}\n",
    "x3={(-1,1):-I/(sqrt(2)*b),(1,1):I/(sqrt(2)*b)}\n",
    "x4={(0,2):1/b}\n",
    "x5={(-1,2):1/(sqrt(2)*b),(1,2):1/(sqrt(2)*b)}\n",
    "x6={(-1,2):-I/(sqrt(2)*b),(1,2):I/(sqrt(2)*b)}\n",
    "\n",
    "real_modes=[x1,x2,x3,x4,x5,x6]\n",
    "laplacian_coeffs=[1/b**2,1+1/b**2,1+1/b**2,4/b**2,1+4/b**2,1+4/b**2]"
   ]
  },
  {
   "cell_type": "markdown",
   "metadata": {},
   "source": [
    "## This is the integrand we will use to calculate the $c_{ijk}$"
   ]
  },
  {
   "cell_type": "code",
   "execution_count": 5,
   "metadata": {},
   "outputs": [],
   "source": [
    "integrand=cancel(jmode*simplify((diff(kmode,x)*diff(lmode,y)-diff(kmode,y)*diff(lmode,x))))\n",
    "normalisation_factor=4*pi**2"
   ]
  },
  {
   "cell_type": "markdown",
   "metadata": {},
   "source": [
    "## Calculate all the $c_{ijk}$ values:"
   ]
  },
  {
   "cell_type": "code",
   "execution_count": 7,
   "metadata": {},
   "outputs": [],
   "source": [
    "cs={}\n",
    "n=0\n",
    "for jxval,kxval,lxval in it.product(x_modes,x_modes,x_modes):\n",
    "    for jyval,kyval,lyval in it.product(y_modes,y_modes,y_modes):\n",
    "        #In this case the jacobian vanishes for sure\n",
    "        if (kxval==0) & (lxval==0):\n",
    "            result=0\n",
    "\n",
    "        #In this case the x integral vanishes so we dont care either\n",
    "        elif jxval+kxval+lxval!=0:\n",
    "            result=0\n",
    "        else:\n",
    "            result=integrate(integrate(integrand.subs({jy:jyval,ky:kyval,ly:lyval,jx:jxval,kx:kxval,lx:lxval}),(x,0,2*pi)),(y,0,b*pi))\n",
    "            \n",
    "        if result!=0:\n",
    "            cs[((jxval,jyval),(kxval,kyval),(lxval,lyval))]=result/normalisation_factor\n",
    "        n+=1\n"
   ]
  },
  {
   "cell_type": "markdown",
   "metadata": {},
   "source": [
    "## Use those to calculate the nonlinear terms in the equations:"
   ]
  },
  {
   "cell_type": "code",
   "execution_count": 8,
   "metadata": {},
   "outputs": [],
   "source": [
    "nl_terms={}\n",
    "for triad in cs:\n",
    "    (jx,jy),(kx,ky),(lx,ly)=triad\n",
    "    \n",
    "    a_j=jx**2+(jy/b)**2\n",
    "    a_l=lx**2+(ly/b)**2\n",
    "    nl_terms[triad]=cs[triad]*(a_l)/(a_j)"
   ]
  },
  {
   "cell_type": "markdown",
   "metadata": {},
   "source": [
    "## Transform to the real basis and combine the whole RHS of each equation together:"
   ]
  },
  {
   "cell_type": "code",
   "execution_count": 11,
   "metadata": {},
   "outputs": [],
   "source": [
    "real_coeffs={}\n",
    "for j,k,l in it.product(range(D),range(D),range(D)):\n",
    "    xj=real_modes[j]\n",
    "    xk=real_modes[k]\n",
    "    xl=real_modes[l]\n",
    "    \n",
    "    mode_term=0\n",
    "    for m1,m2,m3 in it.product(xj,xk,xl):\n",
    "        if (m1!=m2)&(m2!=m3)&(m1!=m3):\n",
    "            try:\n",
    "                r=nl_terms[(m1,m2,m3)]\n",
    "            except KeyError:\n",
    "                r=0\n",
    "                \n",
    "            mode_term+=r*xj[m1]*xk[m2]*xl[m3]\n",
    "            \n",
    "    if mode_term!=0:    \n",
    "        real_coeffs[(j+1,k+1,l+1)]=mode_term"
   ]
  },
  {
   "cell_type": "code",
   "execution_count": 23,
   "metadata": {},
   "outputs": [],
   "source": [
    "xs=[var(f\"x_{i}\",real=True,commutative=True) for i in range(1,D+1)]\n",
    "\n",
    "rhsides=[0 for i in range(D)]\n",
    "for (j,k,l) in real_coeffs:\n",
    "    rhsides[j-1]=rhsides[j-1]+real_coeffs[(j,k,l)]*xs[k-1]*xs[l-1]"
   ]
  },
  {
   "cell_type": "markdown",
   "metadata": {},
   "source": [
    "# The final result:"
   ]
  },
  {
   "cell_type": "code",
   "execution_count": 36,
   "metadata": {},
   "outputs": [
    {
     "name": "stdout",
     "output_type": "stream",
     "text": [
      "x_1 nonlinear tendency:\n"
     ]
    },
    {
     "data": {
      "text/latex": [
       "$\\displaystyle 0$"
      ],
      "text/plain": [
       "0"
      ]
     },
     "execution_count": 36,
     "metadata": {},
     "output_type": "execute_result"
    }
   ],
   "source": [
    "print(f\"x_1 nonlinear tendency:\")\n",
    "print_eq(rhsides,0,mode_num=D)"
   ]
  },
  {
   "cell_type": "code",
   "execution_count": 37,
   "metadata": {},
   "outputs": [
    {
     "name": "stdout",
     "output_type": "stream",
     "text": [
      "x_2 nonlinear tendency:\n"
     ]
    },
    {
     "data": {
      "text/latex": [
       "$\\displaystyle - \\frac{8 \\sqrt{2} x_{1} x_{3}}{3 \\pi b \\left(b^{2} + 1\\right)} - \\frac{64 \\sqrt{2} x_{4} x_{6}}{15 \\pi b \\left(b^{2} + 1\\right)}$"
      ],
      "text/plain": [
       "-8*sqrt(2)*x_1*x_3/(3*pi*b*(b**2 + 1)) - 64*sqrt(2)*x_4*x_6/(15*pi*b*(b**2 + 1))"
      ]
     },
     "execution_count": 37,
     "metadata": {},
     "output_type": "execute_result"
    }
   ],
   "source": [
    "print(f\"x_2 nonlinear tendency:\")\n",
    "print_eq(rhsides,1,mode_num=D)"
   ]
  },
  {
   "cell_type": "code",
   "execution_count": 38,
   "metadata": {},
   "outputs": [
    {
     "name": "stdout",
     "output_type": "stream",
     "text": [
      "x_3 nonlinear tendency:\n"
     ]
    },
    {
     "data": {
      "text/latex": [
       "$\\displaystyle \\frac{8 \\sqrt{2} x_{1} x_{2}}{3 \\pi b \\left(b^{2} + 1\\right)} + \\frac{64 \\sqrt{2} x_{4} x_{5}}{15 \\pi b \\left(b^{2} + 1\\right)}$"
      ],
      "text/plain": [
       "8*sqrt(2)*x_1*x_2/(3*pi*b*(b**2 + 1)) + 64*sqrt(2)*x_4*x_5/(15*pi*b*(b**2 + 1))"
      ]
     },
     "execution_count": 38,
     "metadata": {},
     "output_type": "execute_result"
    }
   ],
   "source": [
    "print(f\"x_3 nonlinear tendency:\")\n",
    "print_eq(rhsides,2,mode_num=D)"
   ]
  },
  {
   "cell_type": "code",
   "execution_count": 39,
   "metadata": {},
   "outputs": [
    {
     "name": "stdout",
     "output_type": "stream",
     "text": [
      "x_4 nonlinear tendency:\n"
     ]
    },
    {
     "data": {
      "text/latex": [
       "$\\displaystyle \\frac{16 \\sqrt{2} x_{2} x_{6}}{5 \\pi b^{3}} - \\frac{16 \\sqrt{2} x_{3} x_{5}}{5 \\pi b^{3}}$"
      ],
      "text/plain": [
       "16*sqrt(2)*x_2*x_6/(5*pi*b**3) - 16*sqrt(2)*x_3*x_5/(5*pi*b**3)"
      ]
     },
     "execution_count": 39,
     "metadata": {},
     "output_type": "execute_result"
    }
   ],
   "source": [
    "print(f\"x_4 nonlinear tendency:\")\n",
    "print_eq(rhsides,3,mode_num=D)"
   ]
  },
  {
   "cell_type": "code",
   "execution_count": 40,
   "metadata": {},
   "outputs": [
    {
     "name": "stdout",
     "output_type": "stream",
     "text": [
      "x_5 nonlinear tendency:\n"
     ]
    },
    {
     "data": {
      "text/latex": [
       "$\\displaystyle - \\frac{32 \\sqrt{2} x_{1} x_{6} \\left(b^{2} + 3\\right)}{15 \\pi b^{3} \\left(b^{2} + 4\\right)} + \\frac{64 \\sqrt{2} x_{3} x_{4} \\left(3 - b^{2}\\right)}{15 \\pi b^{3} \\left(b^{2} + 4\\right)}$"
      ],
      "text/plain": [
       "-32*sqrt(2)*x_1*x_6*(b**2 + 3)/(15*pi*b**3*(b**2 + 4)) + 64*sqrt(2)*x_3*x_4*(3 - b**2)/(15*pi*b**3*(b**2 + 4))"
      ]
     },
     "execution_count": 40,
     "metadata": {},
     "output_type": "execute_result"
    }
   ],
   "source": [
    "print(f\"x_5 nonlinear tendency:\")\n",
    "print_eq(rhsides,4,mode_num=D)"
   ]
  },
  {
   "cell_type": "code",
   "execution_count": 41,
   "metadata": {},
   "outputs": [
    {
     "name": "stdout",
     "output_type": "stream",
     "text": [
      "x_6 nonlinear tendency:\n"
     ]
    },
    {
     "data": {
      "text/latex": [
       "$\\displaystyle \\frac{32 \\sqrt{2} x_{1} x_{5} \\left(b^{2} + 3\\right)}{15 \\pi b^{3} \\left(b^{2} + 4\\right)} + \\frac{64 \\sqrt{2} x_{2} x_{4} \\left(b^{2} - 3\\right)}{15 \\pi b^{3} \\left(b^{2} + 4\\right)}$"
      ],
      "text/plain": [
       "32*sqrt(2)*x_1*x_5*(b**2 + 3)/(15*pi*b**3*(b**2 + 4)) + 64*sqrt(2)*x_2*x_4*(b**2 - 3)/(15*pi*b**3*(b**2 + 4))"
      ]
     },
     "execution_count": 41,
     "metadata": {},
     "output_type": "execute_result"
    }
   ],
   "source": [
    "print(f\"x_6 nonlinear tendency:\")\n",
    "print_eq(rhsides,5,mode_num=D)"
   ]
  },
  {
   "cell_type": "markdown",
   "metadata": {},
   "source": [
    "## Orographic terms can be done similarly:"
   ]
  },
  {
   "cell_type": "code",
   "execution_count": 53,
   "metadata": {},
   "outputs": [],
   "source": [
    "hs=[0,1/b,0,0,0,0,0,0,0,0]\n",
    "gamma=Symbol(\"\\gamma\",positive=True,nonzero=True)"
   ]
  },
  {
   "cell_type": "code",
   "execution_count": 55,
   "metadata": {},
   "outputs": [],
   "source": [
    "orog_terms={}\n",
    "for triad in cs:\n",
    "    (jx,jy),(kx,ky),(lx,ly)=triad\n",
    "    \n",
    "    a_j=jx**2+(jy/b)**2\n",
    "    a_l=lx**2+(ly/b)**2\n",
    "    orog_terms[triad]=cs[triad]*-gamma/(a_j)\n",
    "    \n",
    "real_orog_coeffs={}\n",
    "for j,k,l in it.product(range(D),range(D),range(D)):\n",
    "    xj=real_modes[j]\n",
    "    xk=real_modes[k]\n",
    "    xl=real_modes[l]\n",
    "    \n",
    "    mode_term=0\n",
    "    for m1,m2,m3 in it.product(xj,xk,xl):\n",
    "        if (m1!=m2)&(m2!=m3)&(m1!=m3):\n",
    "            try:\n",
    "                r=orog_terms[(m1,m2,m3)]\n",
    "            except KeyError:\n",
    "                r=0\n",
    "                \n",
    "            mode_term+=r*xj[m1]*xk[m2]*xl[m3]*hs[l]\n",
    "            \n",
    "    if mode_term!=0:    \n",
    "        real_orog_coeffs[(j+1,k+1,l+1)]=mode_term\n",
    "        \n"
   ]
  },
  {
   "cell_type": "code",
   "execution_count": 67,
   "metadata": {},
   "outputs": [
    {
     "data": {
      "text/plain": [
       "{(1, 3, 2): 4*sqrt(2)*\\gamma/(3*pi*b**2),\n",
       " (3, 1, 2): -4*sqrt(2)*\\gamma/(3*pi*b**4*(1 + b**(-2))),\n",
       " (4, 6, 2): 8*sqrt(2)*\\gamma/(15*pi*b**2),\n",
       " (6, 4, 2): -32*sqrt(2)*\\gamma/(15*pi*b**4*(1 + 4/b**2))}"
      ]
     },
     "execution_count": 67,
     "metadata": {},
     "output_type": "execute_result"
    }
   ],
   "source": [
    "#entry h(i,j,k) represents a term in the ith tendency equation of the form h * x_j\n",
    "real_orog_coeffs"
   ]
  },
  {
   "cell_type": "markdown",
   "metadata": {},
   "source": [
    "# Extending to 10 modes is as simple as redefining our basis functions:"
   ]
  },
  {
   "cell_type": "code",
   "execution_count": null,
   "metadata": {},
   "outputs": [],
   "source": [
    "x_modes=[-2,-1,0,1,2]\n",
    "y_modes=[1,2]\n",
    "D=10\n",
    "#These are the descriptors used in CdV79\n",
    "mode_label={(0,1):\"A\",(0,2):\"B\",(1,1):\"C\",(-1,1):\"D\",(1,2):\"E\",(-1,2):\"F\",(-2,1):\"G\",(2,1):\"H\",(-2,2):\"I\",(2,2):\"J\"}\n",
    "\n",
    "#These are the descriptors of the real modes\n",
    "x1={(0,1):1}\n",
    "x2={(-1,1):1/(sqrt(2)),(1,1):1/(sqrt(2))}\n",
    "x3={(-1,1):-I/(sqrt(2)),(1,1):I/(sqrt(2))}\n",
    "x4={(0,2):1}\n",
    "x5={(-1,2):1/(sqrt(2)),(1,2):1/(sqrt(2))}\n",
    "x6={(-1,2):-I/(sqrt(2)),(1,2):I/(sqrt(2))}\n",
    "\n",
    "x7={(-2,1):1/(sqrt(2)),(2,1):1/(sqrt(2))}\n",
    "x8={(-2,1):-I/(sqrt(2)),(2,1):I/(sqrt(2))}\n",
    "\n",
    "x9={(-2,2):1/(sqrt(2)),(2,2):1/(sqrt(2))}\n",
    "x10={(-2,2):-I/(sqrt(2)),(2,2):I/(sqrt(2))}\n",
    "\n",
    "real_modes=[x1,x2,x3,x4,x5,x6,x7,x8,x9,x10]\n",
    "\n",
    "cs={}\n",
    "n=0\n",
    "for jxval,kxval,lxval in it.product(x_modes,x_modes,x_modes):\n",
    "    for jyval,kyval,lyval in it.product(y_modes,y_modes,y_modes):\n",
    "        #In this case the jacobian vanishes for sure\n",
    "        if (kxval==0) & (lxval==0):\n",
    "            result=0\n",
    "\n",
    "        #In this case the x integral vanishes so we dont care either\n",
    "        elif jxval+kxval+lxval!=0:\n",
    "            result=0\n",
    "        else:\n",
    "            result=integrate(integrate(integrand.subs({jy:jyval,ky:kyval,ly:lyval,jx:jxval,kx:kxval,lx:lxval}),(x,0,2*pi)),(y,0,b*pi))\n",
    "            \n",
    "        if result!=0:\n",
    "            cs[((jxval,jyval),(kxval,kyval),(lxval,lyval))]=result/normalisation_factor\n",
    "        n+=1\n",
    "        \n",
    "nl_terms={}\n",
    "for triad in cs:\n",
    "    (jx,jy),(kx,ky),(lx,ly)=triad\n",
    "    \n",
    "    a_j=jx**2+(jy/b)**2\n",
    "    a_l=lx**2+(ly/b)**2\n",
    "    nl_terms[triad]=cs[triad]*(a_l)/(a_j)\n",
    "    \n",
    "    \n",
    "real_coeffs={}\n",
    "for j,k,l in it.product(range(D),range(D),range(D)):\n",
    "    xj=real_modes[j]\n",
    "    xk=real_modes[k]\n",
    "    xl=real_modes[l]\n",
    "    \n",
    "    mode_term=0\n",
    "    for m1,m2,m3 in it.product(xj,xk,xl):\n",
    "        if (m1!=m2)&(m2!=m3)&(m1!=m3):\n",
    "            try:\n",
    "                r=nl_terms[(m1,m2,m3)]\n",
    "            except KeyError:\n",
    "                r=0\n",
    "                \n",
    "            mode_term+=r*xj[m1]*xk[m2]*xl[m3]\n",
    "            \n",
    "    if mode_term!=0:    \n",
    "        real_coeffs[(j+1,k+1,l+1)]=mode_term\n",
    "        \n",
    "xs=[var(f\"x_{i}\",real=True,commutative=True) for i in range(1,D+1)]\n",
    "\n",
    "rhsides=[0 for i in range(D)]\n",
    "for (j,k,l) in real_coeffs:\n",
    "    rhsides[j-1]=rhsides[j-1]+real_coeffs[(j,k,l)]*xs[k-1]*xs[l-1]"
   ]
  },
  {
   "cell_type": "code",
   "execution_count": 13,
   "metadata": {},
   "outputs": [
    {
     "data": {
      "text/latex": [
       "$\\displaystyle 0$"
      ],
      "text/plain": [
       "0"
      ]
     },
     "execution_count": 13,
     "metadata": {},
     "output_type": "execute_result"
    }
   ],
   "source": [
    "print_eq(rhsides,0)"
   ]
  },
  {
   "cell_type": "code",
   "execution_count": 15,
   "metadata": {},
   "outputs": [
    {
     "data": {
      "text/latex": [
       "$\\displaystyle - \\frac{8 \\sqrt{2} b^{2} x_{1} x_{3}}{3 \\pi \\left(b^{2} + 1\\right)} - \\frac{64 \\sqrt{2} b^{2} x_{4} x_{6}}{15 \\pi \\left(b^{2} + 1\\right)} + \\frac{9 x_{5} x_{8} \\left(1 - b^{2}\\right)}{2 \\left(b^{2} + 1\\right)} + \\frac{9 x_{6} x_{7} \\left(b^{2} - 1\\right)}{2 \\left(b^{2} + 1\\right)}$"
      ],
      "text/plain": [
       "-8*sqrt(2)*b**2*x_1*x_3/(3*pi*(b**2 + 1)) - 64*sqrt(2)*b**2*x_4*x_6/(15*pi*(b**2 + 1)) + 9*x_5*x_8*(1 - b**2)/(2*(b**2 + 1)) + 9*x_6*x_7*(b**2 - 1)/(2*(b**2 + 1))"
      ]
     },
     "execution_count": 15,
     "metadata": {},
     "output_type": "execute_result"
    }
   ],
   "source": [
    "print_eq(rhsides,1)"
   ]
  },
  {
   "cell_type": "code",
   "execution_count": 16,
   "metadata": {},
   "outputs": [
    {
     "data": {
      "text/latex": [
       "$\\displaystyle \\frac{8 \\sqrt{2} b^{2} x_{1} x_{2}}{3 \\pi \\left(b^{2} + 1\\right)} + \\frac{64 \\sqrt{2} b^{2} x_{4} x_{5}}{15 \\pi \\left(b^{2} + 1\\right)} + \\frac{9 x_{5} x_{7} \\left(b^{2} - 1\\right)}{2 \\left(b^{2} + 1\\right)} + \\frac{9 x_{6} x_{8} \\left(b^{2} - 1\\right)}{2 \\left(b^{2} + 1\\right)}$"
      ],
      "text/plain": [
       "8*sqrt(2)*b**2*x_1*x_2/(3*pi*(b**2 + 1)) + 64*sqrt(2)*b**2*x_4*x_5/(15*pi*(b**2 + 1)) + 9*x_5*x_7*(b**2 - 1)/(2*(b**2 + 1)) + 9*x_6*x_8*(b**2 - 1)/(2*(b**2 + 1))"
      ]
     },
     "execution_count": 16,
     "metadata": {},
     "output_type": "execute_result"
    }
   ],
   "source": [
    "print_eq(rhsides,2)"
   ]
  },
  {
   "cell_type": "code",
   "execution_count": 17,
   "metadata": {},
   "outputs": [
    {
     "data": {
      "text/latex": [
       "$\\displaystyle \\frac{32 \\sqrt{2} x_{10} x_{7}}{5 \\pi} + \\frac{16 \\sqrt{2} x_{2} x_{6}}{5 \\pi} - \\frac{16 \\sqrt{2} x_{3} x_{5}}{5 \\pi} - \\frac{32 \\sqrt{2} x_{8} x_{9}}{5 \\pi}$"
      ],
      "text/plain": [
       "32*sqrt(2)*x_10*x_7/(5*pi) + 16*sqrt(2)*x_2*x_6/(5*pi) - 16*sqrt(2)*x_3*x_5/(5*pi) - 32*sqrt(2)*x_8*x_9/(5*pi)"
      ]
     },
     "execution_count": 17,
     "metadata": {},
     "output_type": "execute_result"
    }
   ],
   "source": [
    "print_eq(rhsides,3)"
   ]
  },
  {
   "cell_type": "code",
   "execution_count": 18,
   "metadata": {},
   "outputs": [
    {
     "data": {
      "text/latex": [
       "$\\displaystyle \\frac{9 b^{2} x_{2} x_{8}}{2 \\left(b^{2} + 4\\right)} - \\frac{18 b^{2} x_{3} x_{7}}{4 b^{2} + 16} - \\frac{32 \\sqrt{2} x_{1} x_{6} \\left(b^{2} + 3\\right)}{15 \\pi \\left(b^{2} + 4\\right)} + \\frac{64 \\sqrt{2} x_{3} x_{4} \\left(3 - b^{2}\\right)}{15 \\pi \\left(b^{2} + 4\\right)}$"
      ],
      "text/plain": [
       "9*b**2*x_2*x_8/(2*(b**2 + 4)) - 18*b**2*x_3*x_7/(4*b**2 + 16) - 32*sqrt(2)*x_1*x_6*(b**2 + 3)/(15*pi*(b**2 + 4)) + 64*sqrt(2)*x_3*x_4*(3 - b**2)/(15*pi*(b**2 + 4))"
      ]
     },
     "execution_count": 18,
     "metadata": {},
     "output_type": "execute_result"
    }
   ],
   "source": [
    "print_eq(rhsides,4)"
   ]
  },
  {
   "cell_type": "code",
   "execution_count": 19,
   "metadata": {},
   "outputs": [
    {
     "data": {
      "text/latex": [
       "$\\displaystyle - \\frac{18 b^{2} x_{2} x_{7}}{4 b^{2} + 16} - \\frac{18 b^{2} x_{3} x_{8}}{4 b^{2} + 16} + \\frac{32 \\sqrt{2} x_{1} x_{5} \\left(b^{2} + 3\\right)}{15 \\pi \\left(b^{2} + 4\\right)} + \\frac{64 \\sqrt{2} x_{2} x_{4} \\left(b^{2} - 3\\right)}{15 \\pi \\left(b^{2} + 4\\right)}$"
      ],
      "text/plain": [
       "-18*b**2*x_2*x_7/(4*b**2 + 16) - 18*b**2*x_3*x_8/(4*b**2 + 16) + 32*sqrt(2)*x_1*x_5*(b**2 + 3)/(15*pi*(b**2 + 4)) + 64*sqrt(2)*x_2*x_4*(b**2 - 3)/(15*pi*(b**2 + 4))"
      ]
     },
     "execution_count": 19,
     "metadata": {},
     "output_type": "execute_result"
    }
   ],
   "source": [
    "print_eq(rhsides,5)"
   ]
  },
  {
   "cell_type": "code",
   "execution_count": 20,
   "metadata": {},
   "outputs": [
    {
     "data": {
      "text/latex": [
       "$\\displaystyle - \\frac{64 \\sqrt{2} b^{2} x_{1} x_{8}}{3 \\pi \\left(4 b^{2} + 1\\right)} - \\frac{512 \\sqrt{2} b^{2} x_{10} x_{4}}{15 \\pi \\left(4 b^{2} + 1\\right)} + \\frac{9 x_{2} x_{6}}{2 \\left(4 b^{2} + 1\\right)} + \\frac{9 x_{3} x_{5}}{2 \\left(4 b^{2} + 1\\right)}$"
      ],
      "text/plain": [
       "-64*sqrt(2)*b**2*x_1*x_8/(3*pi*(4*b**2 + 1)) - 512*sqrt(2)*b**2*x_10*x_4/(15*pi*(4*b**2 + 1)) + 9*x_2*x_6/(2*(4*b**2 + 1)) + 9*x_3*x_5/(2*(4*b**2 + 1))"
      ]
     },
     "execution_count": 20,
     "metadata": {},
     "output_type": "execute_result"
    }
   ],
   "source": [
    "print_eq(rhsides,6)"
   ]
  },
  {
   "cell_type": "code",
   "execution_count": 21,
   "metadata": {},
   "outputs": [
    {
     "data": {
      "text/latex": [
       "$\\displaystyle \\frac{64 \\sqrt{2} b^{2} x_{1} x_{7}}{3 \\pi \\left(4 b^{2} + 1\\right)} + \\frac{512 \\sqrt{2} b^{2} x_{4} x_{9}}{15 \\pi \\left(4 b^{2} + 1\\right)} - \\frac{18 x_{2} x_{5}}{16 b^{2} + 4} + \\frac{9 x_{3} x_{6}}{2 \\left(4 b^{2} + 1\\right)}$"
      ],
      "text/plain": [
       "64*sqrt(2)*b**2*x_1*x_7/(3*pi*(4*b**2 + 1)) + 512*sqrt(2)*b**2*x_4*x_9/(15*pi*(4*b**2 + 1)) - 18*x_2*x_5/(16*b**2 + 4) + 9*x_3*x_6/(2*(4*b**2 + 1))"
      ]
     },
     "execution_count": 21,
     "metadata": {},
     "output_type": "execute_result"
    }
   ],
   "source": [
    "print_eq(rhsides,7)"
   ]
  },
  {
   "cell_type": "code",
   "execution_count": 22,
   "metadata": {},
   "outputs": [
    {
     "data": {
      "text/latex": [
       "$\\displaystyle - \\frac{16 \\sqrt{2} x_{1} x_{10} \\left(4 b^{2} + 3\\right)}{15 \\pi \\left(b^{2} + 1\\right)} + \\frac{32 \\sqrt{2} x_{4} x_{8} \\left(3 - 4 b^{2}\\right)}{15 \\pi \\left(b^{2} + 1\\right)}$"
      ],
      "text/plain": [
       "-16*sqrt(2)*x_1*x_10*(4*b**2 + 3)/(15*pi*(b**2 + 1)) + 32*sqrt(2)*x_4*x_8*(3 - 4*b**2)/(15*pi*(b**2 + 1))"
      ]
     },
     "execution_count": 22,
     "metadata": {},
     "output_type": "execute_result"
    }
   ],
   "source": [
    "print_eq(rhsides,8)"
   ]
  },
  {
   "cell_type": "code",
   "execution_count": 23,
   "metadata": {},
   "outputs": [
    {
     "data": {
      "text/latex": [
       "$\\displaystyle \\frac{16 \\sqrt{2} x_{1} x_{9} \\left(4 b^{2} + 3\\right)}{15 \\pi \\left(b^{2} + 1\\right)} + \\frac{32 \\sqrt{2} x_{4} x_{7} \\left(4 b^{2} - 3\\right)}{15 \\pi \\left(b^{2} + 1\\right)}$"
      ],
      "text/plain": [
       "16*sqrt(2)*x_1*x_9*(4*b**2 + 3)/(15*pi*(b**2 + 1)) + 32*sqrt(2)*x_4*x_7*(4*b**2 - 3)/(15*pi*(b**2 + 1))"
      ]
     },
     "execution_count": 23,
     "metadata": {},
     "output_type": "execute_result"
    }
   ],
   "source": [
    "print_eq(rhsides,9)"
   ]
  },
  {
   "cell_type": "code",
   "execution_count": null,
   "metadata": {},
   "outputs": [],
   "source": [
    "orog_terms={}\n",
    "for triad in cs:\n",
    "    (jx,jy),(kx,ky),(lx,ly)=triad\n",
    "    \n",
    "    a_j=jx**2+(jy/b)**2\n",
    "    a_l=lx**2+(ly/b)**2\n",
    "    orog_terms[triad]=cs[triad]*-gamma/(a_j)\n",
    "    \n",
    "real_orog_coeffs={}\n",
    "for j,k,l in it.product(range(D),range(D),range(D)):\n",
    "    xj=real_modes[j]\n",
    "    xk=real_modes[k]\n",
    "    xl=real_modes[l]\n",
    "    \n",
    "    mode_term=0\n",
    "    for m1,m2,m3 in it.product(xj,xk,xl):\n",
    "        if (m1!=m2)&(m2!=m3)&(m1!=m3):\n",
    "            try:\n",
    "                r=orog_terms[(m1,m2,m3)]\n",
    "            except KeyError:\n",
    "                r=0\n",
    "                \n",
    "            mode_term+=r*xj[m1]*xk[m2]*xl[m3]*hs[l]\n",
    "            \n",
    "    if mode_term!=0:    \n",
    "        real_orog_coeffs[(j+1,k+1,l+1)]=mode_term\n",
    "#entry h(i,j,k) represents a term in the ith tendency equation of the form h * x_j\n",
    "real_orog_coeffs "
   ]
  },
  {
   "cell_type": "markdown",
   "metadata": {},
   "source": [
    "# If you have any questions about this code please feel free to contact (hopefully by then Dr.) Josh Dorrington on joshua.dorrington@physics.ox.ac.uk or jcfdorrington@gmail.com"
   ]
  }
 ],
 "metadata": {
  "kernelspec": {
   "display_name": "Python 3",
   "language": "python",
   "name": "python3"
  },
  "language_info": {
   "codemirror_mode": {
    "name": "ipython",
    "version": 3
   },
   "file_extension": ".py",
   "mimetype": "text/x-python",
   "name": "python",
   "nbconvert_exporter": "python",
   "pygments_lexer": "ipython3",
   "version": "3.7.0"
  }
 },
 "nbformat": 4,
 "nbformat_minor": 4
}
